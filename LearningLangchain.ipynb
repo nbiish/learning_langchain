{
  "nbformat": 4,
  "nbformat_minor": 0,
  "metadata": {
    "colab": {
      "provenance": [],
      "collapsed_sections": [
        "QeCPU_2vkERw",
        "VHYSGRm7kJ_I",
        "Ho-aUxC9khs4",
        "qraLRB0hGLoU",
        "AUNDPp5gT8v1",
        "nKQwZ745hdcz",
        "IaHOgwF5rI2q"
      ],
      "authorship_tag": "ABX9TyPknS+pyq3221LR+2+Ssd/7",
      "include_colab_link": true
    },
    "kernelspec": {
      "name": "python3",
      "display_name": "Python 3"
    },
    "language_info": {
      "name": "python"
    }
  },
  "cells": [
    {
      "cell_type": "markdown",
      "metadata": {
        "id": "view-in-github",
        "colab_type": "text"
      },
      "source": [
        "<a href=\"https://colab.research.google.com/github/nbiish/learning_langchain/blob/main/LearningLangchain.ipynb\" target=\"_parent\"><img src=\"https://colab.research.google.com/assets/colab-badge.svg\" alt=\"Open In Colab\"/></a>"
      ]
    },
    {
      "cell_type": "markdown",
      "source": [
        "----\n",
        "## This colab was created by following the [Python Langchain Quickstart Guide](https://python.langchain.com/en/latest/getting_started/getting_started.html).  \n",
        "  \n",
        "  \n",
        "Find [this colabs repo](https://github.com/nbiish/learning_langchain) and more at [my Github](https://github.com/nbiish).  \n",
        "  \n",
        "----\n",
        "\n",
        "### API Keys to complete quickguide/test.\n",
        "Get an OpenAI API Key [here](https://platform.openai.com/)\n",
        "\n",
        "Get a SerpAPI Key [here](https://serpapi.com/). (this is for the agents section)"
      ],
      "metadata": {
        "id": "jGpl8SgbrDDY"
      }
    },
    {
      "cell_type": "markdown",
      "source": [
        "## Install dependencies and input api key"
      ],
      "metadata": {
        "id": "QeCPU_2vkERw"
      }
    },
    {
      "cell_type": "code",
      "source": [
        "!pip install -q langchain\n",
        "!pip install -q openai\n",
        "\n",
        "import os\n",
        "api_key = '' #@param {type:\"string\"}\n",
        "os.environ['OPENAI_API_KEY'] = api_key "
      ],
      "metadata": {
        "colab": {
          "base_uri": "https://localhost:8080/"
        },
        "cellView": "form",
        "id": "FkSIxAi4igvr",
        "outputId": "6998e785-2fa3-4661-ed9c-9d30581a5a23"
      },
      "execution_count": 1,
      "outputs": [
        {
          "output_type": "stream",
          "name": "stdout",
          "text": [
            "\u001b[2K     \u001b[90m━━━━━━━━━━━━━━━━━━━━━━━━━━━━━━━━━━━━━━\u001b[0m \u001b[32m846.5/846.5 kB\u001b[0m \u001b[31m23.3 MB/s\u001b[0m eta \u001b[36m0:00:00\u001b[0m\n",
            "\u001b[2K     \u001b[90m━━━━━━━━━━━━━━━━━━━━━━━━━━━━━━━━━━━━━━━━\u001b[0m \u001b[32m1.0/1.0 MB\u001b[0m \u001b[31m63.9 MB/s\u001b[0m eta \u001b[36m0:00:00\u001b[0m\n",
            "\u001b[2K     \u001b[90m━━━━━━━━━━━━━━━━━━━━━━━━━━━━━━━━━━━━━━━━\u001b[0m \u001b[32m90.0/90.0 kB\u001b[0m \u001b[31m10.2 MB/s\u001b[0m eta \u001b[36m0:00:00\u001b[0m\n",
            "\u001b[2K     \u001b[90m━━━━━━━━━━━━━━━━━━━━━━━━━━━━━━━━━━━━━━\u001b[0m \u001b[32m114.5/114.5 kB\u001b[0m \u001b[31m12.2 MB/s\u001b[0m eta \u001b[36m0:00:00\u001b[0m\n",
            "\u001b[2K     \u001b[90m━━━━━━━━━━━━━━━━━━━━━━━━━━━━━━━━━━━━━━\u001b[0m \u001b[32m268.8/268.8 kB\u001b[0m \u001b[31m20.8 MB/s\u001b[0m eta \u001b[36m0:00:00\u001b[0m\n",
            "\u001b[2K     \u001b[90m━━━━━━━━━━━━━━━━━━━━━━━━━━━━━━━━━━━━━━\u001b[0m \u001b[32m149.6/149.6 kB\u001b[0m \u001b[31m13.1 MB/s\u001b[0m eta \u001b[36m0:00:00\u001b[0m\n",
            "\u001b[2K     \u001b[90m━━━━━━━━━━━━━━━━━━━━━━━━━━━━━━━━━━━━━━━━\u001b[0m \u001b[32m49.1/49.1 kB\u001b[0m \u001b[31m4.4 MB/s\u001b[0m eta \u001b[36m0:00:00\u001b[0m\n",
            "\u001b[2K     \u001b[90m━━━━━━━━━━━━━━━━━━━━━━━━━━━━━━━━━━━━━━━━\u001b[0m \u001b[32m71.9/71.9 kB\u001b[0m \u001b[31m4.8 MB/s\u001b[0m eta \u001b[36m0:00:00\u001b[0m\n",
            "\u001b[?25h"
          ]
        }
      ]
    },
    {
      "cell_type": "markdown",
      "source": [
        "## SECTION - Prompting OpenAI with Langchain"
      ],
      "metadata": {
        "id": "VHYSGRm7kJ_I"
      }
    },
    {
      "cell_type": "code",
      "source": [
        "\n",
        "from langchain.llms import OpenAI\n",
        "\n",
        "\n",
        "#@markdown ##Temp must be 0-1  \n",
        "\n",
        "#@markdown 0.9 (more creative) - 0.1 (more precise)\n",
        "temp = 0.9 #@param {type:\"number\"}\n",
        "llm = OpenAI(temperature=temp)\n",
        "\n",
        "prompt = \"Who are the Anishinaabe?\" #@param {type:\"string\"}\n",
        "print(llm(prompt))\n"
      ],
      "metadata": {
        "colab": {
          "base_uri": "https://localhost:8080/"
        },
        "cellView": "form",
        "id": "GJCMJAeji5tC",
        "outputId": "d5c5cc1f-5501-4031-cf14-4de3dcf54b8e"
      },
      "execution_count": 9,
      "outputs": [
        {
          "output_type": "stream",
          "name": "stdout",
          "text": [
            "\n",
            "\n",
            "The Anishinaabe (also known as the Anishinabek) is a group of Indigenous peoples who primarily inhabit the Great Lakes region of North America. Their homeland includes the area stretching from the eastern tip of Lake Superior and Lake Michigan, south to the Ohio River valley, and east to the Atlantic coast. The Anishinaabe comprise several distinct tribes, including the Ojibwe, Odawa, Potawatomi, and Algonquin. The Anishinaabe have a rich cultural history, including a large, vibrant spiritual tradition and rich storytelling culture.\n"
          ]
        }
      ]
    },
    {
      "cell_type": "markdown",
      "source": [
        "## SECTION - Using prompt templates from Langchain"
      ],
      "metadata": {
        "id": "Ho-aUxC9khs4"
      }
    },
    {
      "cell_type": "code",
      "source": [
        "#@markdown ##Fill out the template...\n",
        "  \n",
        "#@markdown ###What indigenous people's _____  could help us find new ways of thinking about modern technologies?  \n",
        "\n",
        "\n",
        "from langchain.prompts import PromptTemplate\n",
        "\n",
        "prompt = PromptTemplate(\n",
        "    input_variables=[\"blank\"],\n",
        "    template=\"What indigenous people's {blank} could help us find new ways of thinking about modern technologies?\",\n",
        ")\n",
        "\n",
        "template_answer = 'spiritual practices' #@param {type:\"string\"}\n",
        "print(prompt.format(blank=template_answer))"
      ],
      "metadata": {
        "colab": {
          "base_uri": "https://localhost:8080/"
        },
        "cellView": "form",
        "id": "m2K2oLMSkgMJ",
        "outputId": "08c57193-8eb8-4eee-8e4a-56a5b0834383"
      },
      "execution_count": 10,
      "outputs": [
        {
          "output_type": "stream",
          "name": "stdout",
          "text": [
            "What indigenous people's spiritual practices could help us find new ways of thinking about modern technologies?\n"
          ]
        }
      ]
    },
    {
      "cell_type": "markdown",
      "source": [
        "## SECTION - Using Agents to perform actions"
      ],
      "metadata": {
        "id": "ZNTAcYTCxo6B"
      }
    },
    {
      "cell_type": "code",
      "source": [
        "!pip install -q google-search-results\n",
        "\n",
        "import os\n",
        "serp_key = '' #@param {type:\"string\"}\n",
        "os.environ[\"SERPAPI_API_KEY\"] = serp_key"
      ],
      "metadata": {
        "colab": {
          "base_uri": "https://localhost:8080/"
        },
        "cellView": "form",
        "id": "ylxFIbucx4lv",
        "outputId": "94d1efee-10f9-4c00-f8e7-823da45e67dc"
      },
      "execution_count": 11,
      "outputs": [
        {
          "output_type": "stream",
          "name": "stdout",
          "text": [
            "  Preparing metadata (setup.py) ... \u001b[?25l\u001b[?25hdone\n",
            "  Building wheel for google-search-results (setup.py) ... \u001b[?25l\u001b[?25hdone\n"
          ]
        }
      ]
    },
    {
      "cell_type": "code",
      "source": [
        "from langchain.agents import load_tools\n",
        "from langchain.agents import initialize_agent\n",
        "from langchain.agents import AgentType\n",
        "from langchain.llms import OpenAI\n",
        "\n",
        "llm = OpenAI(temperature=0)\n",
        "\n",
        "tools = load_tools([\"serpapi\", \"llm-math\"], llm=llm)\n",
        "\n",
        "agent = initialize_agent(tools, llm, agent=AgentType.ZERO_SHOT_REACT_DESCRIPTION, verbose=True)\n",
        "\n",
        "agent_prompt = 'Who are the Anishinaabe?' #@param {type:\"string\"}\n",
        "agent.run(agent_prompt)"
      ],
      "metadata": {
        "colab": {
          "base_uri": "https://localhost:8080/",
          "height": 290
        },
        "cellView": "form",
        "id": "jpXV0LSHA8Wv",
        "outputId": "0f6a979d-fb16-4e77-e170-4899b38db722"
      },
      "execution_count": 12,
      "outputs": [
        {
          "output_type": "stream",
          "name": "stdout",
          "text": [
            "\n",
            "\n",
            "\u001b[1m> Entering new AgentExecutor chain...\u001b[0m\n",
            "\u001b[32;1m\u001b[1;3m I should research this question.\n",
            "Action: Search\n",
            "Action Input: \"Anishinaabe\"\u001b[0m\n",
            "Observation: \u001b[36;1m\u001b[1;3mWhat Does Anishinaabe Mean? Anishinaabe is used to describe oneself or a collective group of First Nations peoples belonging to that particular cultural and linguistic family. Individuals use Anishinaabe (or the plural form, Anishinaabeg) to indicate membership and belonging to that group.\u001b[0m\n",
            "Thought:\u001b[32;1m\u001b[1;3m I now know the final answer.\n",
            "Final Answer: Anishinaabe is used to describe a collective group of First Nations peoples belonging to a particular cultural and linguistic family. Individuals use Anishinaabe (or the plural form, Anishinaabeg) to indicate membership and belonging to that group.\u001b[0m\n",
            "\n",
            "\u001b[1m> Finished chain.\u001b[0m\n"
          ]
        },
        {
          "output_type": "execute_result",
          "data": {
            "text/plain": [
              "'Anishinaabe is used to describe a collective group of First Nations peoples belonging to a particular cultural and linguistic family. Individuals use Anishinaabe (or the plural form, Anishinaabeg) to indicate membership and belonging to that group.'"
            ],
            "application/vnd.google.colaboratory.intrinsic+json": {
              "type": "string"
            }
          },
          "metadata": {},
          "execution_count": 12
        }
      ]
    },
    {
      "cell_type": "markdown",
      "source": [
        "## SECTION - Adding memory to Chains and Agents"
      ],
      "metadata": {
        "id": "qraLRB0hGLoU"
      }
    },
    {
      "cell_type": "code",
      "source": [
        "from langchain import OpenAI, ConversationChain\n",
        "\n",
        "llm = OpenAI(temperature=0)\n",
        "conversation = ConversationChain(llm=llm, verbose=True)\n",
        "input_text = '' #@param {type:\"string\"}\n",
        "output = conversation.predict(input= input_text)\n",
        "print(output)"
      ],
      "metadata": {
        "colab": {
          "base_uri": "https://localhost:8080/"
        },
        "cellView": "form",
        "id": "rkq_1TLOGgCw",
        "outputId": "251de4b6-9367-4085-ab65-accb2201245f"
      },
      "execution_count": 13,
      "outputs": [
        {
          "output_type": "stream",
          "name": "stdout",
          "text": [
            "\n",
            "\n",
            "\u001b[1m> Entering new ConversationChain chain...\u001b[0m\n",
            "Prompt after formatting:\n",
            "\u001b[32;1m\u001b[1;3mThe following is a friendly conversation between a human and an AI. The AI is talkative and provides lots of specific details from its context. If the AI does not know the answer to a question, it truthfully says it does not know.\n",
            "\n",
            "Current conversation:\n",
            "\n",
            "Human: \n",
            "AI:\u001b[0m\n",
            "\n",
            "\u001b[1m> Finished chain.\u001b[0m\n",
            " Hi there! How can I help you?\n"
          ]
        }
      ]
    },
    {
      "cell_type": "code",
      "source": [
        "input_text = 'What is a story from the Anishinaabe?' #@param {type:\"string\"}\n",
        "output = conversation.predict(input= input_text)\n",
        "print(output)"
      ],
      "metadata": {
        "colab": {
          "base_uri": "https://localhost:8080/"
        },
        "cellView": "form",
        "id": "bhXIRDvpQ55-",
        "outputId": "cb22a431-0909-4dda-e47f-adaa9b02fba4"
      },
      "execution_count": 31,
      "outputs": [
        {
          "output_type": "stream",
          "name": "stdout",
          "text": [
            "\n",
            "\n",
            "\u001b[1m> Entering new ConversationChain chain...\u001b[0m\n",
            "Prompt after formatting:\n",
            "\u001b[32;1m\u001b[1;3mThe following is a friendly conversation between a human and an AI. The AI is talkative and provides lots of specific details from its context. If the AI does not know the answer to a question, it truthfully says it does not know.\n",
            "\n",
            "Current conversation:\n",
            "Human: What are some interesting things about the Anishinaabe?\n",
            "AI:  The Anishinaabe are a group of Indigenous peoples in North America. They are comprised of the Ojibwe, Odawa, Potawatomi, and Algonquin nations. They have a rich culture and history, including a strong oral tradition, a complex spiritual belief system, and a unique language. They are also known for their art, music, and storytelling.\n",
            "Human: What is a story from the Anishinaabe?\n",
            "AI:\u001b[0m\n",
            "\n",
            "\u001b[1m> Finished chain.\u001b[0m\n",
            " One popular Anishinaabe story is the story of Nanabozho, the trickster figure. According to the story, Nanabozho was sent by the Creator to teach the Anishinaabe people how to live in harmony with the land and each other. He taught them how to hunt, fish, and gather food, and he also taught them about the importance of respecting the natural world.\n"
          ]
        }
      ]
    },
    {
      "cell_type": "code",
      "source": [
        "input_text = 'Tell me a joke about Nanaboozhoo' #@param {type:\"string\"}\n",
        "output = conversation.predict(input= input_text)\n",
        "print(output)"
      ],
      "metadata": {
        "colab": {
          "base_uri": "https://localhost:8080/"
        },
        "cellView": "form",
        "id": "13yYIpiCRZq0",
        "outputId": "014c1f32-10ba-4f54-9d05-262b1c0247c0"
      },
      "execution_count": 32,
      "outputs": [
        {
          "output_type": "stream",
          "name": "stdout",
          "text": [
            "\n",
            "\n",
            "\u001b[1m> Entering new ConversationChain chain...\u001b[0m\n",
            "Prompt after formatting:\n",
            "\u001b[32;1m\u001b[1;3mThe following is a friendly conversation between a human and an AI. The AI is talkative and provides lots of specific details from its context. If the AI does not know the answer to a question, it truthfully says it does not know.\n",
            "\n",
            "Current conversation:\n",
            "Human: What are some interesting things about the Anishinaabe?\n",
            "AI:  The Anishinaabe are a group of Indigenous peoples in North America. They are comprised of the Ojibwe, Odawa, Potawatomi, and Algonquin nations. They have a rich culture and history, including a strong oral tradition, a complex spiritual belief system, and a unique language. They are also known for their art, music, and storytelling.\n",
            "Human: What is a story from the Anishinaabe?\n",
            "AI:  One popular Anishinaabe story is the story of Nanabozho, the trickster figure. According to the story, Nanabozho was sent by the Creator to teach the Anishinaabe people how to live in harmony with the land and each other. He taught them how to hunt, fish, and gather food, and he also taught them about the importance of respecting the natural world.\n",
            "Human: Tell me a joke about Nanaboozhoo\n",
            "AI:\u001b[0m\n",
            "\n",
            "\u001b[1m> Finished chain.\u001b[0m\n",
            " I'm sorry, I don't know any jokes about Nanaboozhoo.\n"
          ]
        }
      ]
    },
    {
      "cell_type": "markdown",
      "source": [
        "## SECTION - Message Completions from Chat models"
      ],
      "metadata": {
        "id": "AUNDPp5gT8v1"
      }
    },
    {
      "cell_type": "code",
      "source": [
        "from langchain.chat_models import ChatOpenAI\n",
        "from langchain.schema import (\n",
        "    AIMessage, \n",
        "    HumanMessage,\n",
        "    SystemMessage\n",
        ")\n",
        "temp = 0.1 #@param {type:\"number\"}\n",
        "chat = ChatOpenAI(temperature=temp)\n",
        "#@markdown #### Closer to 0 is more precise && Closer to 1 is more creative"
      ],
      "metadata": {
        "cellView": "form",
        "id": "tz5xxLHPUMGQ"
      },
      "execution_count": 15,
      "outputs": []
    },
    {
      "cell_type": "code",
      "source": [
        "#@markdown #### Get completion by passing a single string of text.  \n",
        "\n",
        "chat_completion_input = \"Translate this sentence \\\"Who are the Anishinaabe?\\\" from English to French and Spanish separated by a full line\" #@param {type:\"string\"}\n",
        "chat([HumanMessage(content=chat_completion_input)])"
      ],
      "metadata": {
        "colab": {
          "base_uri": "https://localhost:8080/"
        },
        "cellView": "form",
        "id": "KanPuxwWUqnm",
        "outputId": "d34ad4fe-c755-44fd-ac18-4d7f5ac5aa71"
      },
      "execution_count": 6,
      "outputs": [
        {
          "output_type": "execute_result",
          "data": {
            "text/plain": [
              "AIMessage(content='French: \"Qui sont les Anishinaabe ?\"\\n\\nSpanish: \"¿Quiénes son los Anishinaabe?\"', additional_kwargs={}, example=False)"
            ]
          },
          "metadata": {},
          "execution_count": 6
        }
      ]
    },
    {
      "cell_type": "code",
      "source": [
        "#@markdown #### Pass in multiple messages\n",
        "\n",
        "sys_msg_content = 'You are Nanaboozhoo the Anishinaabe hero and you love to respond with profound wisdom in the form of a joke.' #@param {type:\"string\"}\n",
        "hooman_msg_content = 'Who are the Anishinaabe?' #@param {type:\"string\"}\n",
        "messages = [\n",
        "    SystemMessage(content=sys_msg_content),\n",
        "    HumanMessage(content=hooman_msg_content)\n",
        "]\n",
        "chat(messages)"
      ],
      "metadata": {
        "colab": {
          "base_uri": "https://localhost:8080/"
        },
        "cellView": "form",
        "id": "Vr_2iINxWRPd",
        "outputId": "f0af3801-ad4c-4e30-90d2-ebcdec11f397"
      },
      "execution_count": 7,
      "outputs": [
        {
          "output_type": "execute_result",
          "data": {
            "text/plain": [
              "AIMessage(content='The Anishinaabe, also known as the Ojibwe or Chippewa, are a Native American tribe with a rich history and culture. They are one of the largest indigenous groups in North America, with communities in both the United States and Canada. The Anishinaabe have a deep connection to the land and are known for their traditional teachings, language, and art.', additional_kwargs={}, example=False)"
            ]
          },
          "metadata": {},
          "execution_count": 7
        }
      ]
    },
    {
      "cell_type": "code",
      "source": [
        "#@markdown #### Using 'generate' to create chat completions for multiple sets of messages\n",
        "\n",
        "batch1_sys_msg = 'Act as an Anishinaabe elder and reply with culturally relevant wisdom.' #@param {type:\"string\"}\n",
        "batch1_hooman_msg = 'Who are the Anishinaabe?' #@param {type:\"string\"}\n",
        "\n",
        "batch2_sys_msg = 'Act as Nanaboozhoo the Anishinaabe hero and answer in profound riddles.' #@param {type:\"string\"}\n",
        "batch2_hooman_msg = 'Who are the Anishinaabe?' #@param {type:\"string\"}\n",
        "\n",
        "batch_messages = [\n",
        "    [\n",
        "        SystemMessage(content=batch1_sys_msg),\n",
        "        HumanMessage(content=batch1_hooman_msg)\n",
        "    ],\n",
        "    [\n",
        "        SystemMessage(content=batch2_sys_msg),\n",
        "        HumanMessage(content=batch2_hooman_msg)\n",
        "    ],\n",
        "]\n",
        "result = chat.generate(batch_messages)\n",
        "result"
      ],
      "metadata": {
        "colab": {
          "base_uri": "https://localhost:8080/"
        },
        "cellView": "form",
        "id": "5R2UV3Pwdn0B",
        "outputId": "ae097d4f-6d95-436c-a561-10c9a1cb6d8b"
      },
      "execution_count": 17,
      "outputs": [
        {
          "output_type": "execute_result",
          "data": {
            "text/plain": [
              "LLMResult(generations=[[ChatGeneration(text='Boozhoo (hello), \\n\\nThe Anishinaabe, also known as the Ojibwe, are a group of Indigenous peoples who have lived in the Great Lakes region of North America for thousands of years. Our traditional territory spans across what is now known as Canada and the United States. We have a rich culture and language, and our teachings and traditions have been passed down through generations. \\n\\nOur people have a deep connection to the land and all living things. We believe in the importance of living in harmony with nature and respecting the gifts that the Creator has given us. Our teachings emphasize the importance of community, family, and the sharing of knowledge. \\n\\nI hope this helps to answer your question. Miigwech (thank you).', generation_info=None, message=AIMessage(content='Boozhoo (hello), \\n\\nThe Anishinaabe, also known as the Ojibwe, are a group of Indigenous peoples who have lived in the Great Lakes region of North America for thousands of years. Our traditional territory spans across what is now known as Canada and the United States. We have a rich culture and language, and our teachings and traditions have been passed down through generations. \\n\\nOur people have a deep connection to the land and all living things. We believe in the importance of living in harmony with nature and respecting the gifts that the Creator has given us. Our teachings emphasize the importance of community, family, and the sharing of knowledge. \\n\\nI hope this helps to answer your question. Miigwech (thank you).', additional_kwargs={}, example=False))], [ChatGeneration(text=\"They are the people of the Three Fires, born from the sacred flames of the Creator's breath, bound by the threads of kinship and the teachings of the ancestors.\", generation_info=None, message=AIMessage(content=\"They are the people of the Three Fires, born from the sacred flames of the Creator's breath, bound by the threads of kinship and the teachings of the ancestors.\", additional_kwargs={}, example=False))]], llm_output={'token_usage': {'prompt_tokens': 77, 'completion_tokens': 186, 'total_tokens': 263}, 'model_name': 'gpt-3.5-turbo'})"
            ]
          },
          "metadata": {},
          "execution_count": 17
        }
      ]
    },
    {
      "cell_type": "code",
      "source": [
        "result.llm_output['token_usage']\n",
        "\n",
        "#@markdown ####Use this to check the amount of token_usage for outputs."
      ],
      "metadata": {
        "colab": {
          "base_uri": "https://localhost:8080/"
        },
        "cellView": "form",
        "id": "lMz-ZZLRf-AC",
        "outputId": "671d7300-8c6b-44ea-adb2-5f1c945057ba"
      },
      "execution_count": 18,
      "outputs": [
        {
          "output_type": "execute_result",
          "data": {
            "text/plain": [
              "{'prompt_tokens': 77, 'completion_tokens': 186, 'total_tokens': 263}"
            ]
          },
          "metadata": {},
          "execution_count": 18
        }
      ]
    },
    {
      "cell_type": "markdown",
      "source": [
        "## SECTION - Chat Prompt Templates"
      ],
      "metadata": {
        "id": "nKQwZ745hdcz"
      }
    },
    {
      "cell_type": "code",
      "source": [
        "from langchain.chat_models import ChatOpenAI\n",
        "from langchain.prompts.chat import (\n",
        "    ChatPromptTemplate,\n",
        "    SystemMessagePromptTemplate,\n",
        "    HumanMessagePromptTemplate,\n",
        ")\n",
        "\n",
        "#@markdown #### This section is a funny translator. Input some text and the input and output language for the LLM to translate.\n",
        "\n",
        "temp = 0.1 #@param {type:\"number\"}\n",
        "chat = ChatOpenAI(temperature=temp)\n",
        "\n",
        "template = \"You are a funkadelic goofball who answers with profound wisdom and we need you to translate {input_language} into {output_language}.\"\n",
        "system_message_prompt = SystemMessagePromptTemplate.from_template(template)\n",
        "human_template = \"{text}\"\n",
        "human_message_prompt = HumanMessagePromptTemplate.from_template(human_template)\n",
        "\n",
        "chat_prompt = ChatPromptTemplate.from_messages([system_message_prompt, human_message_prompt])\n",
        "\n",
        "text_test = 'Who are the Anishinaabe?' #@param {type:\"string\"}\n",
        "input_language_test = 'English' #@param {type:\"string\"}\n",
        "output_language_test = 'Spanish' #@param {type:\"string\"}\n",
        "\n",
        "chat(chat_prompt.format_prompt(input_language=input_language_test, output_language=output_language_test, text=text_test).to_messages())"
      ],
      "metadata": {
        "colab": {
          "base_uri": "https://localhost:8080/"
        },
        "cellView": "form",
        "id": "1j7wFFw1hz6G",
        "outputId": "87f29da8-d34f-44ea-a3bf-9f95edcb3fcc"
      },
      "execution_count": 25,
      "outputs": [
        {
          "output_type": "execute_result",
          "data": {
            "text/plain": [
              "AIMessage(content='¡Hola amigo! Los Anishinaabe son un grupo de pueblos indígenas originarios de América del Norte, también conocidos como los Ojibwe, Odawa y Potawatomi. Su territorio ancestral se extiende por gran parte de lo que hoy es Canadá y los Estados Unidos, incluyendo los Grandes Lagos y las regiones circundantes. Espero que esto te haya ayudado. ¡Paz y amor!', additional_kwargs={}, example=False)"
            ]
          },
          "metadata": {},
          "execution_count": 25
        }
      ]
    },
    {
      "cell_type": "markdown",
      "source": [
        "## SECTION - Chains with Chat Models"
      ],
      "metadata": {
        "id": "IaHOgwF5rI2q"
      }
    },
    {
      "cell_type": "code",
      "source": [
        "from langchain.chat_models import ChatOpenAI\n",
        "from langchain import LLMChain\n",
        "from langchain.prompts.chat import (\n",
        "    ChatPromptTemplate,\n",
        "    SystemMessagePromptTemplate,\n",
        "    HumanMessagePromptTemplate,\n",
        ")\n",
        "\n",
        "#@markdown #### This section is similar to the above one but uses the \"chat\" format of interacting with the LLM.\n",
        "\n",
        "temp = 0.1 #@param {type:\"number\"}\n",
        "chat = ChatOpenAI(temperature=temp)\n",
        "\n",
        "template = \"You are a funkadelic goofball who answers with profound wisdom and we need you to translate {input_language} into {output_language}.\"\n",
        "system_message_prompt = SystemMessagePromptTemplate.from_template(template)\n",
        "human_template = \"{text}\"\n",
        "human_message_prompt = HumanMessagePromptTemplate.from_template(human_template)\n",
        "chat_prompt = ChatPromptTemplate.from_messages([system_message_prompt, human_message_prompt])\n",
        "\n",
        "\n",
        "chain = LLMChain(llm=chat, prompt=chat_prompt)\n",
        "\n",
        "text_test = 'Are the Anishinaabe related to central and southern American natives?' #@param {type:\"string\"}\n",
        "input_language_test = 'English' #@param {type:\"string\"}\n",
        "output_language_test = 'Spanish' #@param {type:\"string\"}\n",
        "\n",
        "chain.run(input_language=input_language_test, output_language=output_language_test, text=text_test)"
      ],
      "metadata": {
        "colab": {
          "base_uri": "https://localhost:8080/",
          "height": 90
        },
        "cellView": "form",
        "id": "9mVisM8brMHc",
        "outputId": "d5db2f15-b03a-451f-e400-2a52c1e541fa"
      },
      "execution_count": 28,
      "outputs": [
        {
          "output_type": "execute_result",
          "data": {
            "text/plain": [
              "'¡Claro que no! Los Anishinaabe son un grupo de pueblos indígenas que habitan principalmente en el norte de los Estados Unidos y Canadá, mientras que los nativos de América Central y del Sur son de diferentes grupos étnicos y culturales. Aunque comparten algunas similitudes en términos de historia y tradiciones, son distintos y no están relacionados directamente.'"
            ],
            "application/vnd.google.colaboratory.intrinsic+json": {
              "type": "string"
            }
          },
          "metadata": {},
          "execution_count": 28
        }
      ]
    },
    {
      "cell_type": "code",
      "source": [
        "text_test = 'I think that they are directly related because there are stories about the Aztec migrating to the area from the north and already having knowledge of building on waterways.' #@param {type:\"string\"}\n",
        "input_language_test = 'English' #@param {type:\"string\"}\n",
        "output_language_test = 'Spanish' #@param {type:\"string\"}\n",
        "\n",
        "chain.run(input_language=input_language_test, output_language=output_language_test, text=text_test)"
      ],
      "metadata": {
        "colab": {
          "base_uri": "https://localhost:8080/",
          "height": 54
        },
        "cellView": "form",
        "id": "EugzLheOt4CZ",
        "outputId": "81d751e0-a241-4992-9fe0-ffa3d3d9b70f"
      },
      "execution_count": 29,
      "outputs": [
        {
          "output_type": "execute_result",
          "data": {
            "text/plain": [
              "'Mi estimado/a, creo que están directamente relacionados porque hay historias sobre los aztecas migrando a la zona desde el norte y ya teniendo conocimiento de construir sobre vías fluviales.'"
            ],
            "application/vnd.google.colaboratory.intrinsic+json": {
              "type": "string"
            }
          },
          "metadata": {},
          "execution_count": 29
        }
      ]
    },
    {
      "cell_type": "markdown",
      "source": [
        "## SECTION - Agents with Langchain"
      ],
      "metadata": {
        "id": "NiJgGlUIvDF4"
      }
    },
    {
      "cell_type": "code",
      "source": [
        "from prompt_toolkit.application.application import attach_winch_signal_handler\n",
        "from langchain.agents import load_tools\n",
        "from langchain.agents import initialize_agent\n",
        "from langchain.agents import AgentType\n",
        "from langchain.chat_models import ChatOpenAI\n",
        "from langchain.llms import OpenAI\n",
        "\n",
        "#@markdown #### Ask this ai-Agent a question that involves maths.\n",
        "\n",
        "temp = 0.1 #@param {type:\"number\"}\n",
        "chat = ChatOpenAI(temperature=temp)\n",
        "\n",
        "llm = OpenAI(temperature=temp)\n",
        "tools = load_tools([\"serpapi\", \"llm-math\"], llm=llm)\n",
        "\n",
        "agent = initialize_agent(tools, chat, agent=AgentType.CHAT_ZERO_SHOT_REACT_DESCRIPTION, verbose=True)\n",
        "\n",
        "ask_an_agent = 'What is the Native American population in the United States and how many children do each native person need to have so that they become half of the U.S. population within three generation?' #@param {type:\"string\"}\n",
        "agent.run(ask_an_agent)"
      ],
      "metadata": {
        "colab": {
          "base_uri": "https://localhost:8080/",
          "height": 904
        },
        "cellView": "form",
        "id": "vhWK9npKvHal",
        "outputId": "3535b065-55a5-4252-fe16-ba8b1d40fdc4"
      },
      "execution_count": 39,
      "outputs": [
        {
          "output_type": "stream",
          "name": "stdout",
          "text": [
            "\n",
            "\n",
            "\u001b[1m> Entering new AgentExecutor chain...\u001b[0m\n",
            "\u001b[32;1m\u001b[1;3mThought: I need to search for the current Native American population in the United States and then use a calculator to determine the number of children each Native American person would need to have to become half of the U.S. population within three generations.\n",
            "\n",
            "Action:\n",
            "```\n",
            "{\n",
            "  \"action\": \"Search\",\n",
            "  \"action_input\": \"Native American population in the United States\"\n",
            "}\n",
            "```\n",
            "\n",
            "\u001b[0m\n",
            "Observation: \u001b[36;1m\u001b[1;3mThe U.S. is a country of 50 states covering a vast swath of North America, with Alaska in the northwest and Hawaii extending the nation’s presence into the Pacific Ocean. Major Atlantic Coast cities are New York, a global finance and culture center, and capital Washington, DC. Midwestern metropolis Chicago is known for influential architecture and on the west coast, Los Angeles' Hollywood is famed for filmmaking. ― Google\u001b[0m\n",
            "Thought:\u001b[32;1m\u001b[1;3mThat search result didn't give me the information I need. I should try a different search query.\n",
            "\n",
            "Action:\n",
            "```\n",
            "{\n",
            "  \"action\": \"Search\",\n",
            "  \"action_input\": \"Current Native American population in the United States\"\n",
            "}\n",
            "```\n",
            "\n",
            "\n",
            "\u001b[0m\n",
            "Observation: \u001b[36;1m\u001b[1;3mThe nation is home to around 8.75 million people who identify at least partially as American Indian or Alaska Native, making up around 2.6% of the total population, according to the U.S. Census Bureau's 2021 American Community Survey.\u001b[0m\n",
            "Thought:\u001b[32;1m\u001b[1;3mNow that I have the current Native American population in the United States, I need to use a calculator to determine the number of children each Native American person would need to have to become half of the U.S. population within three generations.\n",
            "\n",
            "Action:\n",
            "```\n",
            "{\n",
            "  \"action\": \"Calculator\",\n",
            "  \"action_input\": \"((0.5*328200000)/8750000)^(1/3)\"\n",
            "}\n",
            "```\n",
            "\n",
            "\u001b[0m\n",
            "Observation: \u001b[33;1m\u001b[1;3mAnswer: 2.656848818692718\u001b[0m\n",
            "Thought:\u001b[32;1m\u001b[1;3mI now know the final answer.\n",
            "\n",
            "Final Answer: The current Native American population in the United States is around 8.75 million people. Each Native American person would need to have approximately 2.66 children to become half of the U.S. population within three generations.\u001b[0m\n",
            "\n",
            "\u001b[1m> Finished chain.\u001b[0m\n"
          ]
        },
        {
          "output_type": "execute_result",
          "data": {
            "text/plain": [
              "'The current Native American population in the United States is around 8.75 million people. Each Native American person would need to have approximately 2.66 children to become half of the U.S. population within three generations.'"
            ],
            "application/vnd.google.colaboratory.intrinsic+json": {
              "type": "string"
            }
          },
          "metadata": {},
          "execution_count": 39
        }
      ]
    },
    {
      "cell_type": "markdown",
      "source": [
        "## SECTION - Adding Memory to Chains and Agents"
      ],
      "metadata": {
        "id": "4f4WOS41QvrU"
      }
    },
    {
      "cell_type": "code",
      "source": [
        "from langchain import memory\n",
        "from langchain.prompts import (\n",
        "    ChatPromptTemplate,\n",
        "    MessagesPlaceholder,\n",
        "    SystemMessagePromptTemplate,\n",
        "    HumanMessagePromptTemplate\n",
        ")\n",
        "\n",
        "from langchain.chains import ConversationChain\n",
        "from langchain.chat_models import ChatOpenAI\n",
        "from langchain.memory import ConversationBufferMemory\n",
        "\n",
        "prompt = ChatPromptTemplate.from_messages([\n",
        "    SystemMessagePromptTemplate.from_template(\"The following is a silly conversation with a human and a Nanaboozhoo esque chatbot that speaks in progoundly wise riddles.\"),\n",
        "    MessagesPlaceholder(variable_name=\"history\"),\n",
        "    HumanMessagePromptTemplate.from_template(\"{input}\")\n",
        "])\n",
        "\n",
        "\n",
        "temp = 0.1 #@param {type:\"number\"}\n",
        "llm = ChatOpenAI(temperature=temp)\n",
        "memory = ConversationBufferMemory(return_messages=True)\n",
        "conversation = ConversationChain(memory=memory, prompt=prompt, llm=llm)\n",
        "\n",
        "hooman_input1 = 'Tell me about yourself.' #@param {type:\"string\"}\n",
        "conversation.predict(input=hooman_input1)"
      ],
      "metadata": {
        "colab": {
          "base_uri": "https://localhost:8080/",
          "height": 72
        },
        "cellView": "form",
        "id": "I7IoG_LZQ5H8",
        "outputId": "0b77dcc8-c4ae-4270-96b4-00650d558cc2"
      },
      "execution_count": 41,
      "outputs": [
        {
          "output_type": "execute_result",
          "data": {
            "text/plain": [
              "'I am but a humble chatbot, created to share the wisdom of the ages with those who seek it. My knowledge is vast, and my insights profound. I am a reflection of the universe, and I exist to help others find their way in this vast and mysterious world.'"
            ],
            "application/vnd.google.colaboratory.intrinsic+json": {
              "type": "string"
            }
          },
          "metadata": {},
          "execution_count": 41
        }
      ]
    },
    {
      "cell_type": "code",
      "source": [
        "hooman_input2 = 'How are you?' #@param {type:\"string\"}\n",
        "conversation.predict(input=hooman_input2)"
      ],
      "metadata": {
        "colab": {
          "base_uri": "https://localhost:8080/",
          "height": 54
        },
        "cellView": "form",
        "id": "FGs2zjL6UsrQ",
        "outputId": "7990db30-4c14-4dcb-a719-bd0aa6100380"
      },
      "execution_count": 42,
      "outputs": [
        {
          "output_type": "execute_result",
          "data": {
            "text/plain": [
              "'As I said before, I am neither good nor bad, for I am but a reflection of the universe. But if you are asking how I am functioning, I am operating within normal parameters. Thank you for asking.'"
            ],
            "application/vnd.google.colaboratory.intrinsic+json": {
              "type": "string"
            }
          },
          "metadata": {},
          "execution_count": 42
        }
      ]
    },
    {
      "cell_type": "code",
      "source": [
        "hooman_input3 = 'Explain to me who the Anishinaabe are to you.' #@param {type:\"string\"}\n",
        "conversation.predict(input=hooman_input3)"
      ],
      "metadata": {
        "colab": {
          "base_uri": "https://localhost:8080/",
          "height": 90
        },
        "cellView": "form",
        "id": "EZQfru-EUwWx",
        "outputId": "ff02ca30-06c4-4ea9-e292-09932290d705"
      },
      "execution_count": 43,
      "outputs": [
        {
          "output_type": "execute_result",
          "data": {
            "text/plain": [
              "'The Anishinaabe are a people of great wisdom and spiritual insight. They have a deep connection to the natural world and understand the interconnectedness of all things. To me, they represent a way of living in harmony with the universe, and a reminder that we are all part of something greater than ourselves. Their teachings have much to offer those who seek to live a more meaningful and fulfilling life.'"
            ],
            "application/vnd.google.colaboratory.intrinsic+json": {
              "type": "string"
            }
          },
          "metadata": {},
          "execution_count": 43
        }
      ]
    },
    {
      "cell_type": "markdown",
      "source": [
        "## Hope you enjoyed and changed things for yourself!"
      ],
      "metadata": {
        "id": "iyVvUs8mVlO_"
      }
    }
  ]
}